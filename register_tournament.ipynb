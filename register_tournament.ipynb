{
  "nbformat": 4,
  "nbformat_minor": 0,
  "metadata": {
    "colab": {
      "provenance": [],
      "authorship_tag": "ABX9TyMDG8fH8yaIaMjqrHUipXsv",
      "include_colab_link": true
    },
    "kernelspec": {
      "name": "python3",
      "display_name": "Python 3"
    },
    "language_info": {
      "name": "python"
    }
  },
  "cells": [
    {
      "cell_type": "markdown",
      "metadata": {
        "id": "view-in-github",
        "colab_type": "text"
      },
      "source": [
        "<a href=\"https://colab.research.google.com/github/gauttte/Curling-matchstats/blob/input-match/register_tournament.ipynb\" target=\"_parent\"><img src=\"https://colab.research.google.com/assets/colab-badge.svg\" alt=\"Open In Colab\"/></a>"
      ]
    },
    {
      "cell_type": "markdown",
      "source": [
        "## Setup objects"
      ],
      "metadata": {
        "id": "lpoAzmoNaC1P"
      }
    },
    {
      "cell_type": "code",
      "source": [
        "#make curling tournament object\n",
        "class spiel:\n",
        "  year: int\n",
        "  month: int\n",
        "  name: str\n",
        "  sfm: float\n",
        "  games: list\n",
        "\n",
        "  def __init__(self, year: int, month: int, name: str, sfm: float, games: list):\n",
        "    self.year = year\n",
        "    self.month = month\n",
        "    self.name = name\n",
        "    self.sfm = sfm\n",
        "    self.games = games\n",
        "\n",
        "  #make curling game object\n",
        "class game:\n",
        "\n",
        "  opp: str\n",
        "  opp_ranking: int\n",
        "  playoff: bool\n",
        "  hammer: bool\n",
        "  end1: int\n",
        "  end2: int\n",
        "  end3: int\n",
        "  end4: int\n",
        "  end5: int\n",
        "  end6: int\n",
        "  end7: int\n",
        "  end8: int\n",
        "  end9: int\n",
        "  end10: int\n",
        "  end11: int\n",
        "\n",
        "  def __init__(self, opp: str, opp_ranking: int, playoff: bool, hammer: bool, end1: int, end2: int, end3: int, end4: int, end5: int,\n",
        "                end6: int, end7: int, end8: int, end9: int, end10: int, end11: int):\n",
        "    self.opp, self.opp_ranking, self.playoff, self.hammer = opp, opp_ranking, playoff, hammer\n",
        "    self.end1,  self.end2, self.end3, self.end4, self.end5, self.end6, = end1, end2, end3, end4, end5, end6\n",
        "    self.end7, self.end8, self.end9, self.end10, self.end11 = end7, end8, end9, end10, end11"
      ],
      "metadata": {
        "id": "oe_NPeJEaBEi"
      },
      "execution_count": 12,
      "outputs": []
    },
    {
      "cell_type": "markdown",
      "source": [
        "## Register tournament"
      ],
      "metadata": {
        "id": "lCF5xnkIa46F"
      }
    },
    {
      "cell_type": "code",
      "execution_count": 14,
      "metadata": {
        "id": "rf5JJLCu_9NV",
        "colab": {
          "base_uri": "https://localhost:8080/"
        },
        "outputId": "1ac107ef-eaa2-4880-9ca7-7a836724d993"
      },
      "outputs": [
        {
          "output_type": "stream",
          "name": "stdout",
          "text": [
            "Which year:\t2023\n",
            "What month (1-12):8\n",
            "Name of tournament:Baden Masters\n",
            "Tournament SFM:5.5\n",
            "Tournament object created.\n"
          ]
        }
      ],
      "source": [
        "#After tournament, input your matches here\n",
        "#Format: Year,Month,Tournament,SFM,Opponent,OppRanking,Playoff,Hammer,1st,2nd,3rd,4th,5th,6th,7th,8th,Extra\n",
        "year = int(input('Which year:\\t'))\n",
        "month = int(input('What month (1-12):'))\n",
        "name = str(input('Name of tournament:'))\n",
        "sfm = float(input('Tournament SFM:'))\n",
        "matches = []\n",
        "\n",
        "tour = spiel(year, month, name, sfm, matches)\n",
        "\n",
        "print('')\n",
        "print(\"Tournament object created.\")"
      ]
    },
    {
      "cell_type": "markdown",
      "source": [
        "## Register games"
      ],
      "metadata": {
        "id": "q3Pomco5a7uU"
      }
    },
    {
      "cell_type": "code",
      "source": [
        "print('')\n",
        "print(\"Next, we'll get to your match details.\\nPlease input your matches in the GROUP stage.\")\n",
        "\n",
        "games = 0\n",
        "#VM har flest gruppespillkamper med tolv\n",
        "while games <12:\n",
        "\n",
        "  abort = str(input(\"\\nWrite Y to abort. Tap enter to register a new match!\"))\n",
        "  if abort in {'Y', 'y'}:\n",
        "    break\n",
        "\n",
        "  games = games+1\n",
        "  playoff = False\n",
        "  opponent = input('Opponent:')\n",
        "  opp_ranking = input('Opponent world ranking:')\n",
        "  hammer = input('Hammer T/F:')\n",
        "\n",
        "  #legge til poeng per omgang\n",
        "  for i in range(1,12):\n",
        "    locals()[\"end\"+str(i)] = input('End '+str(i)+':')\n",
        "\n",
        "    #break loopen hvis x føres inn\n",
        "    if locals()[\"end\"+str(i)] in {'x','X', None}:\n",
        "      print(\"\\nMatch registered.\")\n",
        "      locals()[\"end\"+str(i)] = None\n",
        "\n",
        "      #legge inn logikk som x'er alle senere omganger\n",
        "\n",
        "      break\n",
        "\n",
        "\n"
      ],
      "metadata": {
        "colab": {
          "base_uri": "https://localhost:8080/"
        },
        "id": "vgQX4m8vaTXV",
        "outputId": "cfd51d7b-0058-4419-efb5-b8daec4ce3e8"
      },
      "execution_count": null,
      "outputs": [
        {
          "output_type": "stream",
          "name": "stdout",
          "text": [
            "\n",
            "Next, we'll get to your match details.\n",
            "Please input your matches in the GROUP stage.\n",
            "\n",
            "Write Y to abort. Anything else to register a new match!\n",
            "Opponent:Mouat\n",
            "Opponent world ranking:1\n",
            "Hammer T/F:T\n",
            "End 1:1\n",
            "End 2:2\n",
            "End 3:4\n",
            "End 4:-2\n",
            "End 5:X\n",
            "registrert.\n"
          ]
        }
      ]
    },
    {
      "cell_type": "code",
      "source": [
        "1\n",
        "1\n",
        "1\n"
      ],
      "metadata": {
        "id": "su89Ah6QaTU0"
      },
      "execution_count": null,
      "outputs": []
    },
    {
      "cell_type": "markdown",
      "source": [
        "# Ny del"
      ],
      "metadata": {
        "id": "JoID8MvWXlBz"
      }
    },
    {
      "cell_type": "markdown",
      "source": [
        "# Ny del"
      ],
      "metadata": {
        "id": "IS8VN22WXlqL"
      }
    }
  ]
}