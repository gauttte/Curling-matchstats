{
  "nbformat": 4,
  "nbformat_minor": 0,
  "metadata": {
    "colab": {
      "provenance": [],
      "authorship_tag": "ABX9TyPiu0CNWagB2UcpIgeoi0aW",
      "include_colab_link": true
    },
    "kernelspec": {
      "name": "python3",
      "display_name": "Python 3"
    },
    "language_info": {
      "name": "python"
    }
  },
  "cells": [
    {
      "cell_type": "markdown",
      "metadata": {
        "id": "view-in-github",
        "colab_type": "text"
      },
      "source": [
        "<a href=\"https://colab.research.google.com/github/gauttte/Curling-matchstats/blob/input-match/Input_tournament.ipynb\" target=\"_parent\"><img src=\"https://colab.research.google.com/assets/colab-badge.svg\" alt=\"Open In Colab\"/></a>"
      ]
    },
    {
      "cell_type": "code",
      "execution_count": 2,
      "metadata": {
        "id": "bmgKOZGsvCyV"
      },
      "outputs": [],
      "source": [
        "import numpy as np\n",
        "import pandas as pd"
      ]
    },
    {
      "cell_type": "code",
      "source": [
        "#After tournament, input your matches here\n",
        "#Format: Year,Month,Tournament,SFM,Opponent,OppRanking,Playoff,Hammer,1st,2nd,3rd,4th,5th,6th,7th,8th,Extra\n",
        "Year = int(input('Which year:'))\n",
        "Month = int(input('What month (1-12):'))\n",
        "Tour = str(input('Name of tournament:'))\n",
        "sfm = float(input('Tournament SFM:'))\n",
        "print('')\n",
        "print(\"Next, we'll get to your match details. \\nPlease input your matches in the group stage.\")"
      ],
      "metadata": {
        "colab": {
          "base_uri": "https://localhost:8080/"
        },
        "id": "2EXDQpx9vFpT",
        "outputId": "27ff1bdf-f982-41f9-88d1-6e3c9d6e02ed"
      },
      "execution_count": 10,
      "outputs": [
        {
          "output_type": "stream",
          "name": "stdout",
          "text": [
            "Which year:2023\n",
            "What month (1-12):8\n",
            "Name of tournament:BAden Masters\n",
            "Tournament SFM:5.5\n",
            "\n",
            "Next, we'll get to your match details. \n",
            " Please input your matches in the group stage.\n"
          ]
        }
      ]
    },
    {
      "cell_type": "code",
      "source": [
        "print(Year)"
      ],
      "metadata": {
        "colab": {
          "base_uri": "https://localhost:8080/"
        },
        "id": "swoFjsUpxZkr",
        "outputId": "9e7b66a9-c469-42a9-c863-eb09a761ef33"
      },
      "execution_count": 5,
      "outputs": [
        {
          "output_type": "stream",
          "name": "stdout",
          "text": [
            "2023\n"
          ]
        }
      ]
    },
    {
      "cell_type": "code",
      "source": [],
      "metadata": {
        "id": "YoN2H10Rxc7R"
      },
      "execution_count": null,
      "outputs": []
    }
  ]
}